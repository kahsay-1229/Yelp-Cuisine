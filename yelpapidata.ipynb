{
 "cells": [
  {
   "cell_type": "code",
   "execution_count": null,
   "metadata": {},
   "outputs": [],
   "source": [
    "import csv, os, requests, time, gmaps, pandas as pd, matplotlib.pyplot as plt, numpy as np\n",
    "from config import *\n",
    "gmaps.configure(api_key=gkey)\n",
    "from scipy.stats import linregress"
   ]
  },
  {
   "cell_type": "code",
   "execution_count": null,
   "metadata": {},
   "outputs": [],
   "source": [
    "yelpapi_csv = os.path.join(\"yelpapidata.csv\")\n",
    "yelp_raw = pd.read_csv(yelpapi_csv)\n",
    "yelp_raw.head()"
   ]
  },
  {
   "cell_type": "code",
   "execution_count": null,
   "metadata": {},
   "outputs": [],
   "source": [
    "yelp_raw.describe()"
   ]
  },
  {
   "cell_type": "code",
   "execution_count": null,
   "metadata": {},
   "outputs": [],
   "source": [
    "yelp_format_rd1 = yelp_raw.copy()\n",
    "#yelp_format_rd1[\"review_count\"] = yelp_format_rd1.loc[:, \"review_count\"].astype(float)\n",
    "#yelp_format_rd1[\"rating\"] = yelp_format_rd1.loc[:, \"rating\"].astype(float)\n",
    "yelp_format_rd1['price_attribute'] = yelp_format_rd1['price'].replace(\n",
    "    {'$': '1.Affordable', '$$': '2.Moderate', '$$$': '3.Expensive'})\n",
    "yelp_format_rd1.head()"
   ]
  },
  {
   "cell_type": "code",
   "execution_count": null,
   "metadata": {},
   "outputs": [],
   "source": [
    "yelp_format_rd1.columns"
   ]
  },
  {
   "cell_type": "code",
   "execution_count": null,
   "metadata": {},
   "outputs": [],
   "source": [
    "yelp_format_rd1.count()"
   ]
  },
  {
   "cell_type": "code",
   "execution_count": null,
   "metadata": {},
   "outputs": [],
   "source": [
    "yelp_format_rd1.dtypes"
   ]
  },
  {
   "cell_type": "code",
   "execution_count": null,
   "metadata": {},
   "outputs": [],
   "source": [
    "yelp_gb_cities = yelp_format_rd1.groupby(['search_city'])\n",
    "yelp_gb_cities.sum().head()"
   ]
  },
  {
   "cell_type": "code",
   "execution_count": null,
   "metadata": {},
   "outputs": [],
   "source": [
    "yelp_gb_cuisines = yelp_format_rd1.groupby(['search_cuisine'])\n",
    "yelp_gb_cuisines.sum().head()"
   ]
  },
  {
   "cell_type": "code",
   "execution_count": null,
   "metadata": {},
   "outputs": [],
   "source": [
    "yelp_gb_price = yelp_format_rd1.groupby(['price'])\n",
    "yelp_gb_price.sum().head()"
   ]
  },
  {
   "cell_type": "code",
   "execution_count": null,
   "metadata": {},
   "outputs": [],
   "source": [
    "yelp_gb_citiescount = yelp_format_rd1.groupby(['search_city'])\n",
    "yelp_gb_citiescount.count().head()"
   ]
  },
  {
   "cell_type": "code",
   "execution_count": null,
   "metadata": {},
   "outputs": [],
   "source": [
    "yelp_gb_cuisinescount = yelp_format_rd1.groupby(['search_cuisine'])\n",
    "yelp_gb_cuisinescount.count().head()"
   ]
  },
  {
   "cell_type": "code",
   "execution_count": null,
   "metadata": {},
   "outputs": [],
   "source": [
    "yelp_gb_citiesavg = yelp_format_rd1.groupby(['search_city'])\n",
    "yelp_gb_citiesavg.mean().head()"
   ]
  },
  {
   "cell_type": "code",
   "execution_count": null,
   "metadata": {},
   "outputs": [],
   "source": [
    "yelp_gb_cuisinesavg = yelp_format_rd1.groupby(['search_cuisine'])\n",
    "yelp_gb_cuisinesavg.mean().head()"
   ]
  },
  {
   "cell_type": "code",
   "execution_count": null,
   "metadata": {},
   "outputs": [],
   "source": [
    "yelp_gb2_citiesavg = yelp_format_rd1.groupby(['search_city','search_cuisine'])\n",
    "yelp_gb2_citiesavg.mean().head()"
   ]
  },
  {
   "cell_type": "code",
   "execution_count": null,
   "metadata": {},
   "outputs": [],
   "source": [
    "yelp_gb2_cuisinesavg = yelp_format_rd1.groupby(['search_cuisine','search_city'])\n",
    "yelp_gb2_cuisinesavg.mean().head()"
   ]
  },
  {
   "cell_type": "code",
   "execution_count": null,
   "metadata": {},
   "outputs": [],
   "source": [
    "yelp_gb3_citiesavg = yelp_format_rd1.groupby(['search_city','search_cuisine'])\n",
    "yelp_gb3_citiesavg.mean().head()"
   ]
  },
  {
   "cell_type": "code",
   "execution_count": null,
   "metadata": {},
   "outputs": [],
   "source": [
    "yelp_gb3_cuisinesavg = yelp_format_rd1.groupby(['search_cuisine','search_city'])\n",
    "yelp_gb3_cuisinesavg.mean().head()"
   ]
  },
  {
   "cell_type": "code",
   "execution_count": null,
   "metadata": {},
   "outputs": [],
   "source": [
    "chartme1 = yelp_gb_cuisinesavg['rating'].mean()\n",
    "cuisine_chart = chartme1.plot(kind='bar', title='mean rating by cuisine')\n",
    "cuisine_chart.set_xlabel(\"cuisine group\")\n",
    "cuisine_chart.set_ylabel(\"yelp rating\")\n",
    "\n",
    "plt.show()\n",
    "plt.tight_layout()"
   ]
  },
  {
   "cell_type": "code",
   "execution_count": null,
   "metadata": {},
   "outputs": [],
   "source": [
    "chartme2 = yelp_gb_citiesavg['rating'].mean()\n",
    "cuisine_chart = chartme2.plot(kind='bar', title='mean rating by cuisine')\n",
    "cuisine_chart.set_xlabel(\"yelp rating\")\n",
    "cuisine_chart.set_ylabel('our cities')\n",
    "\n",
    "plt.show()\n",
    "plt.tight_layout()"
   ]
  },
  {
   "cell_type": "code",
   "execution_count": null,
   "metadata": {},
   "outputs": [],
   "source": [
    "yelp_gb_c = yelp_gb_cuisinescount['search_cuisine']\n",
    "yelp_gb_c.count()"
   ]
  },
  {
   "cell_type": "code",
   "execution_count": null,
   "metadata": {},
   "outputs": [],
   "source": [
    "# Labels for the sections of our pie chart\n",
    "food_type = yelp_format_rd1['search_cuisine'].unique()\n",
    "food_type\n",
    "\n",
    "variable = yelp_gb_cuisinescount['review_count'].sum()\n",
    "variable\n",
    "#cuisines_labels = yelp_format_rd1.groupby(['search_cuisine'])['review_count']\n",
    "#cuisines_labels.head()\n",
    "\n",
    "# The values of each section of the pie chart\n",
    "\n",
    "#sizes = yelp_gb_cuisinescount['review_count']\n",
    "\n",
    "\n",
    "# Tells matplotlib to seperate the \"Python\" section from the others\n"
   ]
  },
  {
   "cell_type": "code",
   "execution_count": null,
   "metadata": {},
   "outputs": [],
   "source": [
    "#actual pie chart showing which cusine is represented by reviews\n",
    "explode = (0.1,0,0,0,0,0,0,0,0,0,0,0,0,0,0,0,0,0,0,0)\n",
    "#plt.title('Cusine % Comparison')\n",
    "plt.pie(variable, labels=None,pctdistance=1.10, autopct=\"%1.1f%%\", shadow=True, startangle= 0, explode=explode)\n",
    "centre_circle = plt.Circle((0,0),0.90,fc='white')\n",
    "fig = plt.gcf()\n",
    "fig.gca().add_artist(centre_circle)\n",
    "plt.axis('equal') \n",
    "plt.tight_layout()\n",
    "plt.legend(food_type,\n",
    "           title=\"Cuisines\",\n",
    "          loc=\"center left\",\n",
    "          bbox_to_anchor=(1, 0, 0.5, 1))\n",
    "\n",
    "plt.savefig('donut.png')\n",
    "plt.show()"
   ]
  },
  {
   "cell_type": "code",
   "execution_count": null,
   "metadata": {},
   "outputs": [],
   "source": [
    "plt.barh(food_type,variable, align='center')\n",
    "plt.xlabel('Rating Count')\n",
    "plt.ylabel('Cuisines')\n",
    "plt.title('Cuisine Rating Count')\n",
    "\n",
    "plt.savefig('hbar.png', dpi=100)\n",
    "plt.show()\n"
   ]
  },
  {
   "cell_type": "code",
   "execution_count": null,
   "metadata": {},
   "outputs": [],
   "source": [
    "food_data = yelp_format_rd1\n",
    "food_data"
   ]
  },
  {
   "cell_type": "code",
   "execution_count": null,
   "metadata": {},
   "outputs": [],
   "source": [
    "only_city = food_data.loc[food_data['search_city'] == 'Montgomery, Alabama', :]\n",
    "only_city\n"
   ]
  },
  {
   "cell_type": "code",
   "execution_count": null,
   "metadata": {},
   "outputs": [],
   "source": [
    "city_food = only_city.groupby(['search_cuisine']).mean()\n",
    "city_food"
   ]
  },
  {
   "cell_type": "code",
   "execution_count": null,
   "metadata": {},
   "outputs": [],
   "source": [
    "ratings = city_food.rating\n",
    "reviews = city_food.review_count\n",
    "(slope, intercept, rvalue, pvalue, stderr) = linregress(ratings, reviews)\n",
    "regress_values = ratings * slope + intercept\n",
    "line_eq = \"y = \" + str(round(slope,2)) + \"x + \" + str(round(intercept,2))\n",
    "plt.scatter(ratings, reviews)\n",
    "plt.plot(ratings, regress_values, \"r-\")\n",
    "plt.annotate(line_eq,(0,50), fontsize=15, color='r')\n",
    "plt.ylabel('Vote Count')\n",
    "plt.xlabel('Average Rating')\n",
    "plt.title('Average Rating v. Vote Count ')\n",
    "\n",
    "plt.savefig('alabama_scatter.png')\n",
    "plt.show()"
   ]
  },
  {
   "cell_type": "code",
   "execution_count": null,
   "metadata": {},
   "outputs": [],
   "source": []
  }
 ],
 "metadata": {
  "kernelspec": {
   "display_name": "Python 3",
   "language": "python",
   "name": "python3"
  },
  "language_info": {
   "codemirror_mode": {
    "name": "ipython",
    "version": 3
   },
   "file_extension": ".py",
   "mimetype": "text/x-python",
   "name": "python",
   "nbconvert_exporter": "python",
   "pygments_lexer": "ipython3",
   "version": "3.7.4"
  }
 },
 "nbformat": 4,
 "nbformat_minor": 2
}
