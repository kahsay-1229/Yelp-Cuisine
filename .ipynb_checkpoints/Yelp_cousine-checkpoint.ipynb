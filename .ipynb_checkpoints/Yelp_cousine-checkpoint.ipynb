{
 "cells": [
  {
   "cell_type": "code",
   "execution_count": 2,
   "metadata": {},
   "outputs": [],
   "source": [
    "#import libraries that will be used. this is to ensure functions do not need to be loaded later. \n",
    "import csv, os, requests, time, pandas as pd, matplotlib.pyplot as plt\n",
    "\n",
    "#load all variables from the configuration file. using astrisk allows to bring in all of them. \n",
    "from config import *"
   ]
  },
  {
   "cell_type": "code",
   "execution_count": 28,
   "metadata": {},
   "outputs": [
    {
     "data": {
      "text/plain": [
       "'cities.csv'"
      ]
     },
     "execution_count": 28,
     "metadata": {},
     "output_type": "execute_result"
    }
   ],
   "source": [
    "cities_csv = os.path.join(\"cities.csv\")\n",
    "cities_csv"
   ]
  },
  {
   "cell_type": "code",
   "execution_count": 29,
   "metadata": {},
   "outputs": [],
   "source": [
    "cities = []\n",
    "with open(cities_csv, newline=\"\") as csvfile:\n",
    "    csvreader = csv.reader(csvfile, delimiter=\"|\")\n",
    "    for row in csvreader:\n",
    "        cities.append(row[0])"
   ]
  },
  {
   "cell_type": "code",
   "execution_count": 34,
   "metadata": {},
   "outputs": [
    {
     "name": "stdout",
     "output_type": "stream",
     "text": [
      "['Montgomery, Alabama', 'Juneau, Alaska', 'Phoenix, Arizona', 'Little Rock, Arkansas', 'Sacramento, California', 'Denver, Colorado', 'Hartford, Connecticut', 'Dover, Delaware', 'Honolulu, Hawaii', 'Tallahassee, Florida', 'Atlanta, Georgia', 'Boise, Idaho', 'Springfield, Illinois', 'Indianapolis, Indiana', 'Des Moines, Iowa', 'Topeka, Kansas', 'Frankfort, Kentucky', 'Baton Rouge, Louisiana', 'Augusta, Maine', 'Annapolis, Maryland', 'Boston, Massachusetts', 'Lansing, Michigan', 'St. Paul, Minnesota', 'Jackson, Mississippi', 'Jefferson City, Missouri', 'Helena, Montana', 'Lincoln, Nebraska', 'Carson City, Nevada', 'Concord, New Hampshire', 'Trenton, New Jersey', 'Santa Fe, New Mexico', 'Raleigh, North Carolina', 'Bismarck, North Dakota', 'Albany, New York', 'Columbus, Ohio', 'Oklahoma City, Oklahoma', 'Salem, Oregon', 'Harrisburg, Pennsylvania', 'Providence, Rhode Island', 'Columbia, South Carolina', 'Pierre, South Dakota', 'Nashville, Tennessee', 'Austin, Texas', 'Salt Lake City, Utah', 'Montpelier, Vermont', 'Richmond, Virginia', 'Olympia, Washington', 'Charleston, West Virginia', 'Madison, Wisconsin', 'Cheyenne, Wyoming']\n"
     ]
    }
   ],
   "source": [
    "print(cities)"
   ]
  },
  {
   "cell_type": "code",
   "execution_count": 21,
   "metadata": {},
   "outputs": [],
   "source": [
    "cusines_data = pd.read_csv('cuisines.csv')\n",
    "#cusines_data"
   ]
  },
  {
   "cell_type": "code",
   "execution_count": 31,
   "metadata": {},
   "outputs": [],
   "source": [
    "#second will be cuisines that were selected\n",
    "cuisines_csv = os.path.join(\"cuisines.csv\")\n",
    "\n",
    "#prepare our variable to store the cities\n",
    "cuisines = []\n",
    "\n",
    "#load our cities into the variable created. \n",
    "with open(cuisines_csv, newline=\"\") as csvfile:\n",
    "    csvreader = csv.reader(csvfile, delimiter=\"|\")\n",
    "    for row in csvreader:\n",
    "        cuisines.append(row[0])"
   ]
  },
  {
   "cell_type": "code",
   "execution_count": 33,
   "metadata": {},
   "outputs": [
    {
     "name": "stdout",
     "output_type": "stream",
     "text": [
      "['American', 'Mexican', 'Chinese', 'Japanese', 'Indian', 'Italian', 'Cajun', 'Soul', 'Thai', 'Greek', 'Lebanese', 'Moroccan', 'Mediterranean', 'French', 'Spanish', 'German', 'Korean', 'Vietnamese', 'Turkish', 'Caribbean']\n"
     ]
    }
   ],
   "source": [
    "print(cuisines)"
   ]
  },
  {
   "cell_type": "code",
   "execution_count": 2,
   "metadata": {},
   "outputs": [
    {
     "ename": "NameError",
     "evalue": "name 'api_url' is not defined",
     "output_type": "error",
     "traceback": [
      "\u001b[1;31m---------------------------------------------------------------------------\u001b[0m",
      "\u001b[1;31mNameError\u001b[0m                                 Traceback (most recent call last)",
      "\u001b[1;32m<ipython-input-2-defbf4a6ef9e>\u001b[0m in \u001b[0;36m<module>\u001b[1;34m\u001b[0m\n\u001b[0;32m      1\u001b[0m \u001b[1;31m#set our url to the api provided by help using our config file that has all this information.\u001b[0m\u001b[1;33m\u001b[0m\u001b[1;33m\u001b[0m\u001b[1;33m\u001b[0m\u001b[0m\n\u001b[1;32m----> 2\u001b[1;33m \u001b[0murl\u001b[0m \u001b[1;33m=\u001b[0m \u001b[0mapi_url\u001b[0m \u001b[1;33m+\u001b[0m \u001b[0msearch_path\u001b[0m\u001b[1;33m\u001b[0m\u001b[1;33m\u001b[0m\u001b[0m\n\u001b[0m\u001b[0;32m      3\u001b[0m \u001b[1;31m#set our header variable data to allow us to pass in the GET to yelp's api.\u001b[0m\u001b[1;33m\u001b[0m\u001b[1;33m\u001b[0m\u001b[1;33m\u001b[0m\u001b[0m\n\u001b[0;32m      4\u001b[0m \u001b[0mheaders\u001b[0m \u001b[1;33m=\u001b[0m \u001b[1;33m{\u001b[0m\u001b[1;34m'Authorization'\u001b[0m\u001b[1;33m:\u001b[0m \u001b[1;34m'Bearer '\u001b[0m \u001b[1;33m+\u001b[0m \u001b[0mykey\u001b[0m\u001b[1;33m}\u001b[0m\u001b[1;33m\u001b[0m\u001b[1;33m\u001b[0m\u001b[0m\n\u001b[0;32m      5\u001b[0m \u001b[1;31m#prepare our variable to catch all the help data extracted form the API\u001b[0m\u001b[1;33m\u001b[0m\u001b[1;33m\u001b[0m\u001b[1;33m\u001b[0m\u001b[0m\n",
      "\u001b[1;31mNameError\u001b[0m: name 'api_url' is not defined"
     ]
    }
   ],
   "source": [
    "#set our url to the api provided by help using our config file that has all this information. \n",
    "url = api_url + search_path \n",
    "#set our header variable data to allow us to pass in the GET to yelp's api.\n",
    "headers = {'Authorization': 'Bearer ' + ykey}\n",
    "#prepare our variable to catch all the help data extracted form the API\n",
    "cuisine_data = []"
   ]
  },
  {
   "cell_type": "code",
   "execution_count": null,
   "metadata": {},
   "outputs": [],
   "source": []
  }
 ],
 "metadata": {
  "kernelspec": {
   "display_name": "Python 3",
   "language": "python",
   "name": "python3"
  },
  "language_info": {
   "codemirror_mode": {
    "name": "ipython",
    "version": 3
   },
   "file_extension": ".py",
   "mimetype": "text/x-python",
   "name": "python",
   "nbconvert_exporter": "python",
   "pygments_lexer": "ipython3",
   "version": "3.7.4"
  }
 },
 "nbformat": 4,
 "nbformat_minor": 2
}
