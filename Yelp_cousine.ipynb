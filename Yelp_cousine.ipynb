{
 "cells": [
  {
   "cell_type": "code",
   "execution_count": 1,
   "metadata": {},
   "outputs": [
    {
     "ename": "ModuleNotFoundError",
     "evalue": "No module named 'config'",
     "output_type": "error",
     "traceback": [
      "\u001b[1;31m---------------------------------------------------------------------------\u001b[0m",
      "\u001b[1;31mModuleNotFoundError\u001b[0m                       Traceback (most recent call last)",
      "\u001b[1;32m<ipython-input-1-115e9004501e>\u001b[0m in \u001b[0;36m<module>\u001b[1;34m\u001b[0m\n\u001b[0;32m      3\u001b[0m \u001b[1;33m\u001b[0m\u001b[0m\n\u001b[0;32m      4\u001b[0m \u001b[1;31m#load all variables from the configuration file. using astrisk allows to bring in all of them.\u001b[0m\u001b[1;33m\u001b[0m\u001b[1;33m\u001b[0m\u001b[1;33m\u001b[0m\u001b[0m\n\u001b[1;32m----> 5\u001b[1;33m \u001b[1;32mfrom\u001b[0m \u001b[0mconfig\u001b[0m \u001b[1;32mimport\u001b[0m \u001b[1;33m*\u001b[0m\u001b[1;33m\u001b[0m\u001b[1;33m\u001b[0m\u001b[0m\n\u001b[0m",
      "\u001b[1;31mModuleNotFoundError\u001b[0m: No module named 'config'"
     ]
    }
   ],
   "source": [
    "#import libraries that will be used. this is to ensure functions do not need to be loaded later. \n",
    "import csv, os, requests, time, pandas as pd, matplotlib.pyplot as plt\n",
    "\n",
    "#load all variables from the configuration file. using astrisk allows to bring in all of them. \n",
    "from config import *"
   ]
  },
  {
   "cell_type": "code",
   "execution_count": null,
   "metadata": {},
   "outputs": [],
   "source": [
    "cities_csv = os.path.join(\"cities.csv\")\n",
    "cities_csv"
   ]
  },
  {
   "cell_type": "code",
   "execution_count": null,
   "metadata": {},
   "outputs": [],
   "source": [
    "cities = []\n",
    "with open(cities_csv, newline=\"\") as csvfile:\n",
    "    csvreader = csv.reader(csvfile, delimiter=\"|\")\n",
    "    for row in csvreader:\n",
    "        cities.append(row[0])"
   ]
  },
  {
   "cell_type": "code",
   "execution_count": null,
   "metadata": {},
   "outputs": [],
   "source": [
    "print(cities)"
   ]
  },
  {
   "cell_type": "code",
   "execution_count": null,
   "metadata": {},
   "outputs": [],
   "source": [
    "cusines_data = pd.read_csv('cuisines.csv')\n",
    "#cusines_data"
   ]
  },
  {
   "cell_type": "code",
   "execution_count": null,
   "metadata": {},
   "outputs": [],
   "source": [
    "#second will be cuisines that were selected\n",
    "cuisines_csv = os.path.join(\"cuisines.csv\")\n",
    "\n",
    "#prepare our variable to store the cities\n",
    "cuisines = []\n",
    "\n",
    "#load our cities into the variable created. \n",
    "with open(cuisines_csv, newline=\"\") as csvfile:\n",
    "    csvreader = csv.reader(csvfile, delimiter=\"|\")\n",
    "    for row in csvreader:\n",
    "        cuisines.append(row[0])"
   ]
  },
  {
   "cell_type": "code",
   "execution_count": null,
   "metadata": {},
   "outputs": [],
   "source": [
    "print(cuisines)"
   ]
  },
  {
   "cell_type": "code",
   "execution_count": null,
   "metadata": {},
   "outputs": [],
   "source": [
    "#set our url to the api provided by help using our config file that has all this information. \n",
    "url = api_url + search_path \n",
    "#set our header variable data to allow us to pass in the GET to yelp's api.\n",
    "headers = {'Authorization': 'Bearer ' + ykey}\n",
    "#prepare our variable to catch all the help data extracted form the API\n",
    "cuisine_data = []\n"
   ]
  },
  {
   "cell_type": "code",
   "execution_count": 2,
   "metadata": {},
   "outputs": [
    {
     "ename": "NameError",
     "evalue": "name 'cities' is not defined",
     "output_type": "error",
     "traceback": [
      "\u001b[1;31m---------------------------------------------------------------------------\u001b[0m",
      "\u001b[1;31mNameError\u001b[0m                                 Traceback (most recent call last)",
      "\u001b[1;32m<ipython-input-2-784495bb2792>\u001b[0m in \u001b[0;36m<module>\u001b[1;34m\u001b[0m\n\u001b[0;32m      1\u001b[0m \u001b[1;31m#prepare our first loop for cities\u001b[0m\u001b[1;33m\u001b[0m\u001b[1;33m\u001b[0m\u001b[1;33m\u001b[0m\u001b[0m\n\u001b[1;32m----> 2\u001b[1;33m \u001b[1;32mfor\u001b[0m \u001b[0mcity\u001b[0m \u001b[1;32min\u001b[0m \u001b[0mcities\u001b[0m\u001b[1;33m:\u001b[0m\u001b[1;33m\u001b[0m\u001b[1;33m\u001b[0m\u001b[0m\n\u001b[0m\u001b[0;32m      3\u001b[0m \u001b[1;33m\u001b[0m\u001b[0m\n\u001b[0;32m      4\u001b[0m     \u001b[1;31m#prepare out second loop for cities\u001b[0m\u001b[1;33m\u001b[0m\u001b[1;33m\u001b[0m\u001b[1;33m\u001b[0m\u001b[0m\n\u001b[0;32m      5\u001b[0m     \u001b[1;32mfor\u001b[0m \u001b[0mcuisine\u001b[0m \u001b[1;32min\u001b[0m \u001b[0mcuisines\u001b[0m\u001b[1;33m:\u001b[0m\u001b[1;33m\u001b[0m\u001b[1;33m\u001b[0m\u001b[0m\n",
      "\u001b[1;31mNameError\u001b[0m: name 'cities' is not defined"
     ]
    }
   ],
   "source": [
    "#prepare our first loop for cities\n",
    "for city in cities:\n",
    "    \n",
    "    #prepare out second loop for cities\n",
    "    for cuisine in cuisines: \n",
    "        \n",
    "        #load our parameters using the variables needed to make a successful call. \n",
    "        params = {'term': cuisine, 'location': city, 'limit': 50}\n",
    "        \n",
    "        #send the request to yelp API with our search critera and header\n",
    "        response = requests.get(url, headers=headers, params=params).json()\n",
    "        \n",
    "        #prepare to take the response and loop through the businesses to store the results\n",
    "        for r in range(len(response[\"businesses\"])):\n",
    "            \n",
    "            #provide evidence that the api is working and/or printing, this was used for troubleshooting.\n",
    "            print(city + cuisine)\n",
    "            \n",
    "            #check if there are no business is the response. \n",
    "            if len(response[\"businesses\"]) != 0:\n",
    "                \n",
    "                #create the dictionary that will be used to mind the data captured. \n",
    "                capture_dict = {\n",
    "                        \"search_city\": city,\n",
    "                        \"search_cuisine\": cuisine,\n",
    "                }  \n",
    "                \n",
    "                #verify that our captured attributes exist in the response, if not, add to the response as outlined\n",
    "                if 'id' in response['businesses'][r].keys():\n",
    "                    capture_dict[\"y_id\"] = response['businesses'][r]['id']\n",
    "                else: \n",
    "                    capture_dict[\"y_id\"] = 'NA'\n",
    "                    \n",
    "                if 'name' in response['businesses'][r].keys():\n",
    "                    capture_dict[\"name\"] = response['businesses'][r]['name']\n",
    "                else: \n",
    "                    capture_dict[\"name\"] = 'NA'\n",
    "                    \n",
    "                if 'image_url' in response['businesses'][r].keys():\n",
    "                    capture_dict[\"image_url\"] = response['businesses'][r]['image_url']\n",
    "                else: \n",
    "                    capture_dict[\"image_url\"] = 'NA'\n",
    "                    \n",
    "                if 'url' in response['businesses'][r].keys():\n",
    "                    capture_dict[\"url\"] = response['businesses'][r]['url']\n",
    "                else: \n",
    "                    capture_dict[\"url\"] = 'NA'\n",
    "                    \n",
    "                if 'is_closed' in response['businesses'][r].keys():\n",
    "                    capture_dict[\"closed\"] = response['businesses'][r]['is_closed']\n",
    "                else: \n",
    "                    capture_dict[\"closed\"] = 'Unknown'\n",
    "                    \n",
    "                if 'review_count' in response['businesses'][r].keys():\n",
    "                    capture_dict[\"review_count\"] = response['businesses'][r]['review_count']\n",
    "                else: \n",
    "                    capture_dict[\"review_count\"] = 0\n",
    "                    \n",
    "                if 'rating' in response['businesses'][r].keys():\n",
    "                    capture_dict[\"rating\"] = response['businesses'][r]['rating']\n",
    "                else: \n",
    "                    capture_dict[\"rating\"] = ''\n",
    "                    \n",
    "                if 'price' in response['businesses'][r].keys():\n",
    "                    capture_dict[\"price\"] = response['businesses'][r]['price']\n",
    "                else: \n",
    "                    capture_dict[\"price\"] = ''\n",
    "                    \n",
    "                if 'latitude' in response['businesses'][r]['coordinates'].keys():\n",
    "                    capture_dict[\"lat\"] = response['businesses'][r]['coordinates']['latitude']\n",
    "                else: \n",
    "                    capture_dict[\"lat\"] = ''\n",
    "                    \n",
    "                if 'longitude' in response['businesses'][r]['coordinates'].keys():\n",
    "                    capture_dict[\"long\"] = response['businesses'][r]['coordinates']['longitude']\n",
    "                else: \n",
    "                    capture_dict[\"long\"] = ''\n",
    "                    \n",
    "                if 'address1' in response['businesses'][r]['location'].keys():\n",
    "                    capture_dict[\"add1\"] = response['businesses'][r]['location']['address1']\n",
    "                else: \n",
    "                    capture_dict[\"add1\"] = ''\n",
    "                    \n",
    "                if 'city' in response['businesses'][r]['location'].keys():\n",
    "                    capture_dict[\"city\"] = response['businesses'][r]['location']['city']\n",
    "                else: \n",
    "                    capture_dict[\"city\"] = ''\n",
    "                    \n",
    "                if 'state' in response['businesses'][r]['location'].keys():\n",
    "                    capture_dict[\"state\"] = response['businesses'][r]['location']['state']\n",
    "                else: \n",
    "                    capture_dict[\"state\"] = ''\n",
    "                    \n",
    "                if 'zip_code' in response['businesses'][r]['location'].keys():\n",
    "                    capture_dict[\"zip_code\"] = response['businesses'][r]['location']['zip_code']\n",
    "                else: \n",
    "                    capture_dict[\"zip_code\"] = ''\n",
    "                    \n",
    "                if 'country' in response['businesses'][r]['location'].keys():\n",
    "                    capture_dict[\"country\"] = response['businesses'][r]['location']['country']\n",
    "                else: \n",
    "                    capture_dict[\"country\"] = ''\n",
    "                    \n",
    "                if 'display_phone' in response['businesses'][r].keys():\n",
    "                    capture_dict[\"disp_ph\"] = response['businesses'][r]['display_phone']\n",
    "                else: \n",
    "                    capture_dict[\"disp_ph\"] = ''\n",
    "                    \n",
    "                #capture the data into the dictionary\n",
    "                cuisine_data.append(capture_dict)\n",
    "                \n",
    "#create the data frame for the captured data\n",
    "yelp_data = pd.DataFrame(cuisine_data)\n",
    "\n",
    "#print the data to review, this did not happen because we printed the loop detail. \n",
    "yelp_data.head()"
   ]
  },
  {
   "cell_type": "code",
   "execution_count": null,
   "metadata": {},
   "outputs": [],
   "source": []
  }
 ],
 "metadata": {
  "kernelspec": {
   "display_name": "Python 3",
   "language": "python",
   "name": "python3"
  },
  "language_info": {
   "codemirror_mode": {
    "name": "ipython",
    "version": 3
   },
   "file_extension": ".py",
   "mimetype": "text/x-python",
   "name": "python",
   "nbconvert_exporter": "python",
   "pygments_lexer": "ipython3",
   "version": "3.7.4"
  }
 },
 "nbformat": 4,
 "nbformat_minor": 2
}
