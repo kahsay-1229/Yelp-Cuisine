{
 "cells": [
  {
   "cell_type": "code",
   "execution_count": 4,
   "metadata": {},
   "outputs": [],
   "source": [
    "#import libraries that will be used. this is to ensure functions do not need to be loaded later. \n",
    "import csv, os, requests, time, pandas as pd, matplotlib.pyplot as plt\n",
    "\n",
    "#load all variables from the configuration file. using astrisk allows to bring in all of them. \n",
    "from config import *"
   ]
  },
  {
   "cell_type": "code",
   "execution_count": 5,
   "metadata": {},
   "outputs": [
    {
     "data": {
      "text/plain": [
       "'cities.csv'"
      ]
     },
     "execution_count": 5,
     "metadata": {},
     "output_type": "execute_result"
    }
   ],
   "source": [
    "cities_csv = os.path.join(\"cities.csv\")\n",
    "cities_csv"
   ]
  },
  {
   "cell_type": "code",
   "execution_count": 19,
   "metadata": {},
   "outputs": [
    {
     "data": {
      "text/html": [
       "<div>\n",
       "<style scoped>\n",
       "    .dataframe tbody tr th:only-of-type {\n",
       "        vertical-align: middle;\n",
       "    }\n",
       "\n",
       "    .dataframe tbody tr th {\n",
       "        vertical-align: top;\n",
       "    }\n",
       "\n",
       "    .dataframe thead th {\n",
       "        text-align: right;\n",
       "    }\n",
       "</style>\n",
       "<table border=\"1\" class=\"dataframe\">\n",
       "  <thead>\n",
       "    <tr style=\"text-align: right;\">\n",
       "      <th></th>\n",
       "      <th>Montgomery</th>\n",
       "      <th>Alabama</th>\n",
       "    </tr>\n",
       "  </thead>\n",
       "  <tbody>\n",
       "    <tr>\n",
       "      <td>0</td>\n",
       "      <td>Juneau</td>\n",
       "      <td>Alaska</td>\n",
       "    </tr>\n",
       "    <tr>\n",
       "      <td>1</td>\n",
       "      <td>Phoenix</td>\n",
       "      <td>Arizona</td>\n",
       "    </tr>\n",
       "    <tr>\n",
       "      <td>2</td>\n",
       "      <td>Little Rock</td>\n",
       "      <td>Arkansas</td>\n",
       "    </tr>\n",
       "    <tr>\n",
       "      <td>3</td>\n",
       "      <td>Sacramento</td>\n",
       "      <td>California</td>\n",
       "    </tr>\n",
       "    <tr>\n",
       "      <td>4</td>\n",
       "      <td>Denver</td>\n",
       "      <td>Colorado</td>\n",
       "    </tr>\n",
       "  </tbody>\n",
       "</table>\n",
       "</div>"
      ],
      "text/plain": [
       "    Montgomery      Alabama\n",
       "0       Juneau       Alaska\n",
       "1      Phoenix      Arizona\n",
       "2  Little Rock     Arkansas\n",
       "3   Sacramento   California\n",
       "4       Denver     Colorado"
      ]
     },
     "execution_count": 19,
     "metadata": {},
     "output_type": "execute_result"
    }
   ],
   "source": [
    "data = pd.read_csv('cities.csv')\n",
    "data.head()"
   ]
  },
  {
   "cell_type": "code",
   "execution_count": 6,
   "metadata": {},
   "outputs": [],
   "source": [
    "cities = []\n",
    "with open(cities_csv, newline=\"\") as csvfile:\n",
    "    csvreader = csv.reader(csvfile, delimiter=\"|\")\n",
    "    for row in csvreader:\n",
    "        cities.append(row[0])"
   ]
  },
  {
   "cell_type": "code",
   "execution_count": 7,
   "metadata": {},
   "outputs": [
    {
     "name": "stdout",
     "output_type": "stream",
     "text": [
      "['Montgomery, Alabama', 'Juneau, Alaska', 'Phoenix, Arizona', 'Little Rock, Arkansas', 'Sacramento, California', 'Denver, Colorado', 'Hartford, Connecticut', 'Dover, Delaware', 'Honolulu, Hawaii', 'Tallahassee, Florida', 'Atlanta, Georgia', 'Boise, Idaho', 'Springfield, Illinois', 'Indianapolis, Indiana', 'Des Moines, Iowa', 'Topeka, Kansas', 'Frankfort, Kentucky', 'Baton Rouge, Louisiana', 'Augusta, Maine', 'Annapolis, Maryland', 'Boston, Massachusetts', 'Lansing, Michigan', 'St. Paul, Minnesota', 'Jackson, Mississippi', 'Jefferson City, Missouri', 'Helena, Montana', 'Lincoln, Nebraska', 'Carson City, Nevada', 'Concord, New Hampshire', 'Trenton, New Jersey', 'Santa Fe, New Mexico', 'Raleigh, North Carolina', 'Bismarck, North Dakota', 'Albany, New York', 'Columbus, Ohio', 'Oklahoma City, Oklahoma', 'Salem, Oregon', 'Harrisburg, Pennsylvania', 'Providence, Rhode Island', 'Columbia, South Carolina', 'Pierre, South Dakota', 'Nashville, Tennessee', 'Austin, Texas', 'Salt Lake City, Utah', 'Montpelier, Vermont', 'Richmond, Virginia', 'Olympia, Washington', 'Charleston, West Virginia', 'Madison, Wisconsin', 'Cheyenne, Wyoming']\n"
     ]
    }
   ],
   "source": [
    "print(cities)"
   ]
  },
  {
   "cell_type": "code",
   "execution_count": 12,
   "metadata": {},
   "outputs": [
    {
     "data": {
      "text/html": [
       "<div>\n",
       "<style scoped>\n",
       "    .dataframe tbody tr th:only-of-type {\n",
       "        vertical-align: middle;\n",
       "    }\n",
       "\n",
       "    .dataframe tbody tr th {\n",
       "        vertical-align: top;\n",
       "    }\n",
       "\n",
       "    .dataframe thead th {\n",
       "        text-align: right;\n",
       "    }\n",
       "</style>\n",
       "<table border=\"1\" class=\"dataframe\">\n",
       "  <thead>\n",
       "    <tr style=\"text-align: right;\">\n",
       "      <th></th>\n",
       "      <th>American</th>\n",
       "    </tr>\n",
       "  </thead>\n",
       "  <tbody>\n",
       "    <tr>\n",
       "      <td>0</td>\n",
       "      <td>Mexican</td>\n",
       "    </tr>\n",
       "    <tr>\n",
       "      <td>1</td>\n",
       "      <td>Chinese</td>\n",
       "    </tr>\n",
       "    <tr>\n",
       "      <td>2</td>\n",
       "      <td>Japanese</td>\n",
       "    </tr>\n",
       "    <tr>\n",
       "      <td>3</td>\n",
       "      <td>Indian</td>\n",
       "    </tr>\n",
       "    <tr>\n",
       "      <td>4</td>\n",
       "      <td>Italian</td>\n",
       "    </tr>\n",
       "    <tr>\n",
       "      <td>5</td>\n",
       "      <td>Cajun</td>\n",
       "    </tr>\n",
       "    <tr>\n",
       "      <td>6</td>\n",
       "      <td>Soul</td>\n",
       "    </tr>\n",
       "    <tr>\n",
       "      <td>7</td>\n",
       "      <td>Thai</td>\n",
       "    </tr>\n",
       "    <tr>\n",
       "      <td>8</td>\n",
       "      <td>Greek</td>\n",
       "    </tr>\n",
       "    <tr>\n",
       "      <td>9</td>\n",
       "      <td>Lebanese</td>\n",
       "    </tr>\n",
       "    <tr>\n",
       "      <td>10</td>\n",
       "      <td>Moroccan</td>\n",
       "    </tr>\n",
       "    <tr>\n",
       "      <td>11</td>\n",
       "      <td>Mediterranean</td>\n",
       "    </tr>\n",
       "    <tr>\n",
       "      <td>12</td>\n",
       "      <td>French</td>\n",
       "    </tr>\n",
       "    <tr>\n",
       "      <td>13</td>\n",
       "      <td>Spanish</td>\n",
       "    </tr>\n",
       "    <tr>\n",
       "      <td>14</td>\n",
       "      <td>German</td>\n",
       "    </tr>\n",
       "    <tr>\n",
       "      <td>15</td>\n",
       "      <td>Korean</td>\n",
       "    </tr>\n",
       "    <tr>\n",
       "      <td>16</td>\n",
       "      <td>Vietnamese</td>\n",
       "    </tr>\n",
       "    <tr>\n",
       "      <td>17</td>\n",
       "      <td>Turkish</td>\n",
       "    </tr>\n",
       "    <tr>\n",
       "      <td>18</td>\n",
       "      <td>Caribbean</td>\n",
       "    </tr>\n",
       "    <tr>\n",
       "      <td>19</td>\n",
       "      <td>Ethiopian</td>\n",
       "    </tr>\n",
       "  </tbody>\n",
       "</table>\n",
       "</div>"
      ],
      "text/plain": [
       "         American\n",
       "0         Mexican\n",
       "1         Chinese\n",
       "2        Japanese\n",
       "3          Indian\n",
       "4         Italian\n",
       "5           Cajun\n",
       "6            Soul\n",
       "7            Thai\n",
       "8           Greek\n",
       "9        Lebanese\n",
       "10       Moroccan\n",
       "11  Mediterranean\n",
       "12         French\n",
       "13        Spanish\n",
       "14         German\n",
       "15         Korean\n",
       "16     Vietnamese\n",
       "17        Turkish\n",
       "18      Caribbean\n",
       "19      Ethiopian"
      ]
     },
     "execution_count": 12,
     "metadata": {},
     "output_type": "execute_result"
    }
   ],
   "source": [
    "cusines_data = pd.read_csv('cuisines.csv')\n",
    "#cusines_data"
   ]
  },
  {
   "cell_type": "code",
   "execution_count": 6,
   "metadata": {},
   "outputs": [],
   "source": [
    "#second will be cuisines that were selected\n",
    "cuisines_csv = os.path.join(\"cuisines.csv\")\n",
    "\n",
    "#prepare our variable to store the cities\n",
    "cuisines = []\n",
    "\n",
    "#load our cities into the variable created. \n",
    "with open(cuisines_csv, newline=\"\") as csvfile:\n",
    "    csvreader = csv.reader(csvfile, delimiter=\"|\")\n",
    "    for row in csvreader:\n",
    "        cuisines.append(row[0])"
   ]
  },
  {
   "cell_type": "code",
   "execution_count": 7,
   "metadata": {},
   "outputs": [
    {
     "name": "stdout",
     "output_type": "stream",
     "text": [
      "['American', 'Mexican', 'Chinese', 'Japanese', 'Indian', 'Italian', 'Cajun', 'Soul', 'Thai', 'Greek', 'Lebanese', 'Moroccan', 'Mediterranean', 'French', 'Spanish', 'German', 'Korean', 'Vietnamese', 'Turkish', 'Caribbean', 'Ethiopian']\n"
     ]
    }
   ],
   "source": [
    "print(cuisines)"
   ]
  },
  {
   "cell_type": "code",
   "execution_count": 10,
   "metadata": {},
   "outputs": [
    {
     "name": "stdout",
     "output_type": "stream",
     "text": [
      "https://api.yelp.com/v3/businesses/search\n"
     ]
    }
   ],
   "source": [
    "#set our url to the api provided by help using our config file that has all this information. \n",
    "#All Yelp Fusion API endpoints are under https://api.yelp.com/v3.\n",
    "url = api_url + search_path \n",
    "#set our header variable data to allow us to pass in the GET to yelp's api.\n",
    "headers = {'Authorization': 'Bearer ' + ykey}\n",
    "#prepare our variable to catch all the help data extracted form the API\n",
    "cuisine_data = []\n",
    "print(url)"
   ]
  },
  {
   "cell_type": "code",
   "execution_count": null,
   "metadata": {},
   "outputs": [],
   "source": [
    "#prepare our first loop for cities\n",
    "for city in cities:\n",
    "    \n",
    "    #prepare out second loop for cities\n",
    "    for cuisine in cuisines: \n",
    "        \n",
    "        #load our parameters using the variables needed to make a successful call. \n",
    "        params = {'term': cuisine, 'location': city, 'limit': 50}\n",
    "        \n",
    "        #send the request to yelp API with our search critera and header\n",
    "        response = requests.get(url, headers=headers, params=params).json()\n",
    "        \n",
    "        #prepare to take the response and loop through the businesses to store the results\n",
    "        for r in range(len(response[\"businesses\"])):\n",
    "            \n",
    "            #provide evidence that the api is working and/or printing, this was used for troubleshooting.\n",
    "            #print(city + cuisine)\n",
    "            \n",
    "            #check if there are no business is the response. \n",
    "            if len(response[\"businesses\"]) != 0:\n",
    "                \n",
    "                #create the dictionary that will be used to mind the data captured. \n",
    "                capture_dict = {\n",
    "                        \"search_city\": city,\n",
    "                        \"search_cuisine\": cuisine,\n",
    "                }  \n",
    "                \n",
    "                #verify that our captured attributes exist in the response, if not, add to the response as outlined\n",
    "                if 'id' in response['businesses'][r].keys():\n",
    "                    capture_dict[\"y_id\"] = response['businesses'][r]['id']\n",
    "                else: \n",
    "                    capture_dict[\"y_id\"] = 'NA'\n",
    "                    \n",
    "                if 'name' in response['businesses'][r].keys():\n",
    "                    capture_dict[\"name\"] = response['businesses'][r]['name']\n",
    "                else: \n",
    "                    capture_dict[\"name\"] = 'NA'\n",
    "                    \n",
    "                if 'image_url' in response['businesses'][r].keys():\n",
    "                    capture_dict[\"image_url\"] = response['businesses'][r]['image_url']\n",
    "                else: \n",
    "                    capture_dict[\"image_url\"] = 'NA'\n",
    "                    \n",
    "                if 'url' in response['businesses'][r].keys():\n",
    "                    capture_dict[\"url\"] = response['businesses'][r]['url']\n",
    "                else: \n",
    "                    capture_dict[\"url\"] = 'NA'\n",
    "                    \n",
    "                if 'is_closed' in response['businesses'][r].keys():\n",
    "                    capture_dict[\"closed\"] = response['businesses'][r]['is_closed']\n",
    "                else: \n",
    "                    capture_dict[\"closed\"] = 'Unknown'\n",
    "                    \n",
    "                if 'review_count' in response['businesses'][r].keys():\n",
    "                    capture_dict[\"review_count\"] = response['businesses'][r]['review_count']\n",
    "                else: \n",
    "                    capture_dict[\"review_count\"] = 0\n",
    "                    \n",
    "                if 'rating' in response['businesses'][r].keys():\n",
    "                    capture_dict[\"rating\"] = response['businesses'][r]['rating']\n",
    "                else: \n",
    "                    capture_dict[\"rating\"] = ''\n",
    "                    \n",
    "                if 'price' in response['businesses'][r].keys():\n",
    "                    capture_dict[\"price\"] = response['businesses'][r]['price']\n",
    "                else: \n",
    "                    capture_dict[\"price\"] = ''\n",
    "                    \n",
    "                if 'latitude' in response['businesses'][r]['coordinates'].keys():\n",
    "                    capture_dict[\"lat\"] = response['businesses'][r]['coordinates']['latitude']\n",
    "                else: \n",
    "                    capture_dict[\"lat\"] = ''\n",
    "                    \n",
    "                if 'longitude' in response['businesses'][r]['coordinates'].keys():\n",
    "                    capture_dict[\"long\"] = response['businesses'][r]['coordinates']['longitude']\n",
    "                else: \n",
    "                    capture_dict[\"long\"] = ''\n",
    "                    \n",
    "                if 'address1' in response['businesses'][r]['location'].keys():\n",
    "                    capture_dict[\"add1\"] = response['businesses'][r]['location']['address1']\n",
    "                else: \n",
    "                    capture_dict[\"add1\"] = ''\n",
    "                    \n",
    "                if 'city' in response['businesses'][r]['location'].keys():\n",
    "                    capture_dict[\"city\"] = response['businesses'][r]['location']['city']\n",
    "                else: \n",
    "                    capture_dict[\"city\"] = ''\n",
    "                    \n",
    "                if 'state' in response['businesses'][r]['location'].keys():\n",
    "                    capture_dict[\"state\"] = response['businesses'][r]['location']['state']\n",
    "                else: \n",
    "                    capture_dict[\"state\"] = ''\n",
    "                    \n",
    "                if 'zip_code' in response['businesses'][r]['location'].keys():\n",
    "                    capture_dict[\"zip_code\"] = response['businesses'][r]['location']['zip_code']\n",
    "                else: \n",
    "                    capture_dict[\"zip_code\"] = ''\n",
    "                    \n",
    "                if 'country' in response['businesses'][r]['location'].keys():\n",
    "                    capture_dict[\"country\"] = response['businesses'][r]['location']['country']\n",
    "                else: \n",
    "                    capture_dict[\"country\"] = ''\n",
    "                    \n",
    "                if 'display_phone' in response['businesses'][r].keys():\n",
    "                    capture_dict[\"disp_ph\"] = response['businesses'][r]['display_phone']\n",
    "                else: \n",
    "                    capture_dict[\"disp_ph\"] = ''\n",
    "                    \n",
    "                #capture the data into the dictionary\n",
    "                cuisine_data.append(capture_dict)\n",
    "                \n",
    "#create the data frame for the captured data\n",
    "yelp_data = pd.DataFrame(cuisine_data)\n",
    "\n",
    "#print the data to review, this did not happen because we printed the loop detail. \n",
    "yelp_data.head(5)"
   ]
  },
  {
   "cell_type": "code",
   "execution_count": null,
   "metadata": {},
   "outputs": [],
   "source": [
    "#now we are going to write the data to the CSV so we can use in the module. \n",
    "#this was done to ensure we did not keep calling the API for our testing and data review.  \n",
    "yelp_data.to_csv(\"yelpapidata.csv\", index=False, header=True)"
   ]
  },
  {
   "cell_type": "code",
   "execution_count": null,
   "metadata": {},
   "outputs": [],
   "source": []
  }
 ],
 "metadata": {
  "kernelspec": {
   "display_name": "Python 3",
   "language": "python",
   "name": "python3"
  },
  "language_info": {
   "codemirror_mode": {
    "name": "ipython",
    "version": 3
   },
   "file_extension": ".py",
   "mimetype": "text/x-python",
   "name": "python",
   "nbconvert_exporter": "python",
   "pygments_lexer": "ipython3",
   "version": "3.7.4"
  }
 },
 "nbformat": 4,
 "nbformat_minor": 2
}
